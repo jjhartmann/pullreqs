{
 "cells": [
  {
   "cell_type": "code",
   "execution_count": 1,
   "metadata": {},
   "outputs": [
    {
     "name": "stderr",
     "output_type": "stream",
     "text": [
      "Loading required package: DBI\n",
      "Loading required package: gsubfn\n",
      "Loading required package: proto\n",
      "Loading required package: RSQLite\n",
      "\n",
      "Attaching package: ‘RSQLite’\n",
      "\n",
      "The following object is masked from ‘package:RMySQL’:\n",
      "\n",
      "    isIdCurrent\n",
      "\n",
      "sqldf will default to using MySQL\n"
     ]
    }
   ],
   "source": [
    "source(file = \"R/packages.R\")\n",
    "source(file = \"R/utils.R\")\n",
    "source(file = \"R/variables.R\")\n",
    "source(file = \"R/mysql.R\")\n",
    "\n",
    "library(RMySQL)\n",
    "library(ggplot2)\n",
    "library(reshape)\n",
    "library(sqldf)\n",
    "library(digest)\n",
    "library(xtable)"
   ]
  },
  {
   "cell_type": "markdown",
   "metadata": {},
   "source": [
    "# DataSet Statistics"
   ]
  },
  {
   "cell_type": "code",
   "execution_count": 5,
   "metadata": {},
   "outputs": [
    {
     "name": "stdout",
     "output_type": "stream",
     "text": [
      "[1] \"Running database queries...\"\n"
     ]
    }
   ],
   "source": [
    "print(\"Running database queries...\")\n",
    "con <- dbConnect(dbDriver(\"MySQL\"), user = mysql.user, password = mysql.passwd, \n",
    "                 dbname = mysql.db, host = mysql.host)"
   ]
  },
  {
   "cell_type": "code",
   "execution_count": 6,
   "metadata": {},
   "outputs": [
    {
     "name": "stdout",
     "output_type": "stream",
     "text": [
      "[1] \"Total repos: 64263412\"\n"
     ]
    }
   ],
   "source": [
    "# Total repos\n",
    "res <- dbSendQuery(con, \"select count(*) as cnt from projects\")\n",
    "repos <- fetch(res, n = -1)\n",
    "print(sprintf(\"Total repos: %d\",repos$cnt))"
   ]
  },
  {
   "cell_type": "code",
   "execution_count": 7,
   "metadata": {},
   "outputs": [
    {
     "name": "stdout",
     "output_type": "stream",
     "text": [
      "[1] \"Total users: 19925203\"\n"
     ]
    }
   ],
   "source": [
    "# Total users\n",
    "res <- dbSendQuery(con, \"select count(*) as cnt from users\")\n",
    "users <- fetch(res, n = -1)\n",
    "print(sprintf(\"Total users: %d\",users$cnt))"
   ]
  },
  {
   "cell_type": "code",
   "execution_count": 8,
   "metadata": {},
   "outputs": [
    {
     "name": "stdout",
     "output_type": "stream",
     "text": [
      "[1] \"Original repos: 36419081.000000\"\n"
     ]
    }
   ],
   "source": [
    "# Original repos\n",
    "res <- dbSendQuery(con, \"select count(*) as cnt from projects where forked_from is null and deleted is false and name not regexp '^.*\\\\.github\\\\.com$' and name <> 'try_git' and name <> 'dotfiles' and name <> 'vimfiles'\")\n",
    "orig_repos <- fetch(res, n = -1)\n",
    "print(sprintf(\"Original repos: %f\",orig_repos$cnt))"
   ]
  },
  {
   "cell_type": "code",
   "execution_count": 9,
   "metadata": {},
   "outputs": [
    {
     "name": "stdout",
     "output_type": "stream",
     "text": [
      "[1] \"Original repos: 56.671565\"\n"
     ]
    }
   ],
   "source": [
    "# % of original repos \n",
    "print(sprintf(\"Original repos: %f\",(orig_repos$cnt/repos$cnt) * 100))\n"
   ]
  },
  {
   "cell_type": "code",
   "execution_count": null,
   "metadata": {
    "collapsed": true
   },
   "outputs": [],
   "source": [
    "# Original repositories that received a single commit in 2013\n",
    "res <- dbSendQuery(con, \"select count(*) as cnt from projects p where forked_from is null and deleted is false and name not regexp '^.*\\\\.github\\\\.com$' and name <> 'try_git' and name <> 'dotfiles' and name <> 'vimfiles' and exists ( select * from project_commits pc, commits c where  pc.project_id = p.id and  c.id = pc.commit_id and unix_timestamp(c.created_at) between 1359676800 and 1377993600)\")\n",
    "repos_with_commits <- fetch(res, n = -1)\n",
    "print(sprintf(\"Original repos with commits Feb-Aug 2013: %f\", repos_with_commits$cnt))\n"
   ]
  },
  {
   "cell_type": "code",
   "execution_count": null,
   "metadata": {
    "collapsed": true
   },
   "outputs": [],
   "source": []
  },
  {
   "cell_type": "code",
   "execution_count": null,
   "metadata": {
    "collapsed": true
   },
   "outputs": [],
   "source": []
  }
 ],
 "metadata": {
  "kernelspec": {
   "display_name": "R",
   "language": "R",
   "name": "ir"
  },
  "language_info": {
   "codemirror_mode": "r",
   "file_extension": ".r",
   "mimetype": "text/x-r-source",
   "name": "R",
   "pygments_lexer": "r",
   "version": "3.3.2"
  },
  "toc": {
   "colors": {
    "hover_highlight": "#DAA520",
    "navigate_num": "#000000",
    "navigate_text": "#333333",
    "running_highlight": "#FF0000",
    "selected_highlight": "#FFD700",
    "sidebar_border": "#EEEEEE",
    "wrapper_background": "#FFFFFF"
   },
   "moveMenuLeft": true,
   "nav_menu": {
    "height": "30px",
    "width": "252px"
   },
   "navigate_menu": true,
   "number_sections": true,
   "sideBar": true,
   "threshold": 4,
   "toc_cell": false,
   "toc_section_display": "block",
   "toc_window_display": true,
   "widenNotebook": false
  }
 },
 "nbformat": 4,
 "nbformat_minor": 2
}
