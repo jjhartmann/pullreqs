{
 "cells": [
  {
   "cell_type": "code",
   "execution_count": null,
   "metadata": {
    "collapsed": true
   },
   "outputs": [],
   "source": [
    "library(\"devtools\")"
   ]
  },
  {
   "cell_type": "code",
   "execution_count": 11,
   "metadata": {
    "scrolled": true
   },
   "outputs": [],
   "source": [
    "source(\"packages.R\")\n",
    "source(file = \"multiplots.R\")\n",
    "source(file = \"variables.R\")\n",
    "source(file = \"utils.R\")\n",
    "source(file = \"plots.R\")"
   ]
  },
  {
   "cell_type": "code",
   "execution_count": 12,
   "metadata": {},
   "outputs": [],
   "source": [
    "library(ggplot2)\n",
    "library(xtable)\n",
    "library(ellipse)\n",
    "library(reshape)\n",
    "library(digest)\n",
    "library(scales)\n",
    "library(cliffsd)"
   ]
  },
  {
   "cell_type": "code",
   "execution_count": 13,
   "metadata": {},
   "outputs": [
    {
     "name": "stdout",
     "output_type": "stream",
     "text": [
      "[1] \"Loading data files..\"\n"
     ]
    },
    {
     "ename": "ERROR",
     "evalue": "Error in subset.default(all, !is.na(src_churn)): object 'src_churn' not found\n",
     "output_type": "error",
     "traceback": [
      "Error in subset.default(all, !is.na(src_churn)): object 'src_churn' not found\nTraceback:\n",
      "1. load.data()",
      "2. subset(all, !is.na(src_churn))",
      "3. subset.default(all, !is.na(src_churn))"
     ]
    }
   ],
   "source": [
    "print(\"Loading data files..\")\n",
    "all <- load.data()"
   ]
  }
 ],
 "metadata": {
  "kernelspec": {
   "display_name": "R",
   "language": "R",
   "name": "ir"
  },
  "language_info": {
   "codemirror_mode": "r",
   "file_extension": ".r",
   "mimetype": "text/x-r-source",
   "name": "R",
   "pygments_lexer": "r",
   "version": "3.3.2"
  },
  "toc": {
   "colors": {
    "hover_highlight": "#DAA520",
    "navigate_num": "#000000",
    "navigate_text": "#333333",
    "running_highlight": "#FF0000",
    "selected_highlight": "#FFD700",
    "sidebar_border": "#EEEEEE",
    "wrapper_background": "#FFFFFF"
   },
   "moveMenuLeft": true,
   "nav_menu": {
    "height": "12px",
    "width": "252px"
   },
   "navigate_menu": true,
   "number_sections": true,
   "sideBar": true,
   "threshold": 4,
   "toc_cell": false,
   "toc_section_display": "block",
   "toc_window_display": true,
   "widenNotebook": false
  }
 },
 "nbformat": 4,
 "nbformat_minor": 2
}
