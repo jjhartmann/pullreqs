{
 "cells": [
  {
   "cell_type": "code",
   "execution_count": 3,
   "metadata": {
    "collapsed": true
   },
   "outputs": [],
   "source": [
    "library(\"devtools\")"
   ]
  },
  {
   "cell_type": "code",
   "execution_count": 13,
   "metadata": {},
   "outputs": [
    {
     "name": "stderr",
     "output_type": "stream",
     "text": [
      "Warning message in file(filename, \"r\", encoding = encoding):\n",
      "“cannot open file 'R/variables.R': No such file or directory”"
     ]
    },
    {
     "ename": "ERROR",
     "evalue": "Error in file(filename, \"r\", encoding = encoding): cannot open the connection\n",
     "output_type": "error",
     "traceback": [
      "Error in file(filename, \"r\", encoding = encoding): cannot open the connection\nTraceback:\n",
      "1. source(file = \"/Volumes/Second_HD/GIT_DIR_2/cs846-Project/pullreqs/R/multiplots.R\")",
      "2. withVisible(eval(ei, envir))",
      "3. eval(ei, envir)",
      "4. eval(expr, envir, enclos)",
      "5. source(file = \"R/variables.R\")",
      "6. file(filename, \"r\", encoding = encoding)"
     ]
    }
   ],
   "source": [
    "source(file = \"/Volumes/Second_HD/GIT_DIR_2/cs846-Project/pullreqs/R/packages.R\")\n",
    "source(file = \"/Volumes/Second_HD/GIT_DIR_2/cs846-Project/pullreqs/R/multiplots.R\")\n",
    "source(file = \"/Volumes/Second_HD/GIT_DIR_2/cs846-Project/pullreqs/R/variables.R\")\n",
    "source(file = \"/Volumes/Second_HD/GIT_DIR_2/cs846-Project/pullreqs/R/utils.R\")\n",
    "source(file = \"/Volumes/Second_HD/GIT_DIR_2/cs846-Project/pullreqs/R/plots.R\")"
   ]
  },
  {
   "cell_type": "code",
   "execution_count": 11,
   "metadata": {},
   "outputs": [
    {
     "data": {
      "text/html": [
       "'/Volumes/Second_HD/GIT_DIR_2/cs846-Project/pullreqs/Analysis'"
      ],
      "text/latex": [
       "'/Volumes/Second\\_HD/GIT\\_DIR\\_2/cs846-Project/pullreqs/Analysis'"
      ],
      "text/markdown": [
       "'/Volumes/Second_HD/GIT_DIR_2/cs846-Project/pullreqs/Analysis'"
      ],
      "text/plain": [
       "[1] \"/Volumes/Second_HD/GIT_DIR_2/cs846-Project/pullreqs/Analysis\""
      ]
     },
     "metadata": {},
     "output_type": "display_data"
    }
   ],
   "source": [
    "getwd()"
   ]
  }
 ],
 "metadata": {
  "kernelspec": {
   "display_name": "R",
   "language": "R",
   "name": "ir"
  },
  "language_info": {
   "codemirror_mode": "r",
   "file_extension": ".r",
   "mimetype": "text/x-r-source",
   "name": "R",
   "pygments_lexer": "r",
   "version": "3.3.2"
  },
  "toc": {
   "colors": {
    "hover_highlight": "#DAA520",
    "navigate_num": "#000000",
    "navigate_text": "#333333",
    "running_highlight": "#FF0000",
    "selected_highlight": "#FFD700",
    "sidebar_border": "#EEEEEE",
    "wrapper_background": "#FFFFFF"
   },
   "moveMenuLeft": true,
   "nav_menu": {
    "height": "12px",
    "width": "252px"
   },
   "navigate_menu": true,
   "number_sections": true,
   "sideBar": true,
   "threshold": 4,
   "toc_cell": false,
   "toc_section_display": "block",
   "toc_window_display": true,
   "widenNotebook": false
  }
 },
 "nbformat": 4,
 "nbformat_minor": 2
}
